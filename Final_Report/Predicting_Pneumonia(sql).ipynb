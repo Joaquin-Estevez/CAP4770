{
  "nbformat": 4,
  "nbformat_minor": 0,
  "metadata": {
    "colab": {
      "provenance": [],
      "authorship_tag": "ABX9TyM8YeU3uLVhgfameSyCI6fF",
      "include_colab_link": true
    },
    "kernelspec": {
      "name": "python3",
      "display_name": "Python 3"
    },
    "language_info": {
      "name": "python"
    }
  },
  "cells": [
    {
      "cell_type": "markdown",
      "metadata": {
        "id": "view-in-github",
        "colab_type": "text"
      },
      "source": [
        "<a href=\"https://colab.research.google.com/github/Joaquin-Estevez/CAP4770/blob/main/Predicting_Pneumonia.ipynb\" target=\"_parent\"><img src=\"https://colab.research.google.com/assets/colab-badge.svg\" alt=\"Open In Colab\"/></a>"
      ]
    },
    {
      "cell_type": "markdown",
      "source": [
        "# Install Required Libraries"
      ],
      "metadata": {
        "id": "ql0j5N99WVF1"
      }
    },
    {
      "cell_type": "code",
      "source": [
        "!pip install matplotlib tensorflow pandas numpy keras\n",
        "!pip install psycopg2 pandas tensorflow"
      ],
      "metadata": {
        "collapsed": true,
        "id": "qVlH3mmkWXfd"
      },
      "execution_count": null,
      "outputs": []
    },
    {
      "cell_type": "markdown",
      "source": [
        "# Import Dependencies"
      ],
      "metadata": {
        "id": "hLBhKCIbWZsw"
      }
    },
    {
      "cell_type": "code",
      "source": [
        "import os\n",
        "import numpy as np\n",
        "import pandas as pd\n",
        "import matplotlib.pyplot as plt\n",
        "import matplotlib.image as mpimg\n",
        "import seaborn as sns\n",
        "import tensorflow as tf\n",
        "from tensorflow import keras\n",
        "from tensorflow.keras import layers\n",
        "from sqlalchemy import create_engine, Column, Integer, String, LargeBinary\n",
        "from sqlalchemy.ext.declarative import declarative_base\n",
        "from sqlalchemy.orm import sessionmaker\n",
        "from PIL import Image\n",
        "import io"
      ],
      "metadata": {
        "id": "cCgya_CMWbWM"
      },
      "execution_count": 4,
      "outputs": []
    },
    {
      "cell_type": "markdown",
      "source": [
        "# Database Setup"
      ],
      "metadata": {
        "id": "9b6mj6vZWoqE"
      }
    },
    {
      "cell_type": "code",
      "source": [
        "Base = declarative_base()\n",
        "engine = create_engine('sqlite:///chest_xray_database.db')\n",
        "Session = sessionmaker(bind=engine)\n",
        "\n",
        "class XRayImage(Base):\n",
        "    __tablename__ = 'xray_images'\n",
        "\n",
        "    id = Column(Integer, primary_key=True)\n",
        "    filename = Column(String)\n",
        "    dataset_type = Column(String)  # 'train', 'test', 'val'\n",
        "    image_class = Column(String)  # 'NORMAL' or 'PNEUMONIA'\n",
        "    image_data = Column(LargeBinary)"
      ],
      "metadata": {
        "collapsed": true,
        "id": "-Bk1-95MWp0O",
        "colab": {
          "base_uri": "https://localhost:8080/"
        },
        "outputId": "dae80feb-e1b2-458d-878d-1d03d7d3c16d"
      },
      "execution_count": 6,
      "outputs": [
        {
          "output_type": "stream",
          "name": "stderr",
          "text": [
            "<ipython-input-6-339c5a2c867d>:1: MovedIn20Warning: The ``declarative_base()`` function is now available as sqlalchemy.orm.declarative_base(). (deprecated since: 2.0) (Background on SQLAlchemy 2.0 at: https://sqlalche.me/e/b8d9)\n",
            "  Base = declarative_base()\n"
          ]
        }
      ]
    },
    {
      "cell_type": "markdown",
      "source": [
        "# Create tables"
      ],
      "metadata": {
        "id": "KQoMUPEZuAOO"
      }
    },
    {
      "cell_type": "code",
      "source": [
        "Base.metadata.create_all(engine)"
      ],
      "metadata": {
        "collapsed": true,
        "id": "oCh-7bwthma7"
      },
      "execution_count": 8,
      "outputs": []
    },
    {
      "cell_type": "markdown",
      "source": [
        "# Download and process Kaggle dataset"
      ],
      "metadata": {
        "id": "Esb7YACyuEvg"
      }
    },
    {
      "cell_type": "code",
      "source": [
        "import kagglehub\n",
        "from pathlib import Path\n",
        "\n",
        "# Download dataset\n",
        "base_path = kagglehub.dataset_download(\"paultimothymooney/chest-xray-pneumonia\")\n",
        "base_path = Path(base_path) / 'chest_xray'\n",
        "\n",
        "def store_images_in_db(base_path):\n",
        "    session = Session()\n",
        "\n",
        "    # Dataset types and their paths\n",
        "    dataset_types = {\n",
        "        'train': base_path / 'train',\n",
        "        'test': base_path / 'test',\n",
        "        'val': base_path / 'val'\n",
        "    }\n",
        "\n",
        "    # Count of images for reporting\n",
        "    image_counts = {\n",
        "        'train': {'NORMAL': 0, 'PNEUMONIA': 0},\n",
        "        'test': {'NORMAL': 0, 'PNEUMONIA': 0},\n",
        "        'val': {'NORMAL': 0, 'PNEUMONIA': 0}\n",
        "    }\n",
        "\n",
        "    # Iterate through dataset types\n",
        "    for dataset_type, dataset_path in dataset_types.items():\n",
        "        for image_class in ['NORMAL', 'PNEUMONIA']:\n",
        "            class_path = dataset_path / image_class\n",
        "\n",
        "            # Store each image in the database\n",
        "            for filename in os.listdir(class_path):\n",
        "                file_path = class_path / filename\n",
        "\n",
        "                # Read image and convert to bytes\n",
        "                with Image.open(file_path) as img:\n",
        "                    img_byte_arr = io.BytesIO()\n",
        "                    img.save(img_byte_arr, format='JPEG')\n",
        "                    img_byte_arr = img_byte_arr.getvalue()\n",
        "\n",
        "                # Create database entry\n",
        "                db_image = XRayImage(\n",
        "                    filename=filename,\n",
        "                    dataset_type=dataset_type,\n",
        "                    image_class=image_class,\n",
        "                    image_data=img_byte_arr\n",
        "                )\n",
        "\n",
        "                session.add(db_image)\n",
        "                image_counts[dataset_type][image_class] += 1\n",
        "\n",
        "    session.commit()\n",
        "    session.close()\n",
        "\n",
        "    return image_counts"
      ],
      "metadata": {
        "id": "RrwMp4jfhkpY"
      },
      "execution_count": 9,
      "outputs": []
    },
    {
      "cell_type": "markdown",
      "source": [
        "# Store images in database and get counts"
      ],
      "metadata": {
        "id": "BO5R-A5ZuTsG"
      }
    },
    {
      "cell_type": "code",
      "source": [
        "image_counts = store_images_in_db(base_path)"
      ],
      "metadata": {
        "id": "xMns8v2xuWVz"
      },
      "execution_count": 10,
      "outputs": []
    },
    {
      "cell_type": "markdown",
      "source": [
        "# Print Image Counts"
      ],
      "metadata": {
        "id": "BRvwDARpubYs"
      }
    },
    {
      "cell_type": "code",
      "source": [
        "for dataset_type, classes in image_counts.items():\n",
        "    print(f'There are {classes[\"NORMAL\"]} normal images in {dataset_type} dataset')\n",
        "    print(f'There are {classes[\"PNEUMONIA\"]} pneumonia images in {dataset_type} dataset')"
      ],
      "metadata": {
        "colab": {
          "base_uri": "https://localhost:8080/"
        },
        "id": "SFrG4WGFueDX",
        "outputId": "eb551efb-6e25-4534-f903-b327ad586ce3"
      },
      "execution_count": 11,
      "outputs": [
        {
          "output_type": "stream",
          "name": "stdout",
          "text": [
            "There are 1341 normal images in train dataset\n",
            "There are 3875 pneumonia images in train dataset\n",
            "There are 234 normal images in test dataset\n",
            "There are 390 pneumonia images in test dataset\n",
            "There are 8 normal images in val dataset\n",
            "There are 8 pneumonia images in val dataset\n"
          ]
        }
      ]
    },
    {
      "cell_type": "markdown",
      "source": [
        "# DB Image Generator"
      ],
      "metadata": {
        "id": "4hmZmhBG5iSy"
      }
    },
    {
      "cell_type": "code",
      "source": [
        "import tensorflow as tf\n",
        "import numpy as np\n",
        "from PIL import Image\n",
        "import io\n",
        "\n",
        "class DatabaseImageGenerator:\n",
        "    def __init__(self, session, dataset_type, batch_size=32, image_size=(256, 256)):\n",
        "        self.session = session\n",
        "        self.dataset_type = dataset_type\n",
        "        self.batch_size = batch_size\n",
        "        self.image_size = image_size\n",
        "\n",
        "        # Count total images\n",
        "        self.total_images = self.session.query(XRayImage).filter_by(\n",
        "            dataset_type=dataset_type\n",
        "        ).count()\n",
        "\n",
        "        # Create a query to iterate through images\n",
        "        self.image_query = self.session.query(XRayImage).filter_by(\n",
        "            dataset_type=dataset_type\n",
        "        )\n",
        "\n",
        "    def __call__(self):\n",
        "        # Shuffle the query\n",
        "        shuffled_query = self.image_query.order_by(XRayImage.id)\n",
        "\n",
        "        # Prepare lists to collect images and labels\n",
        "        all_images = []\n",
        "        all_labels = []\n",
        "\n",
        "        # Collect all valid images\n",
        "        for image_record in shuffled_query:\n",
        "            try:\n",
        "                img = Image.open(io.BytesIO(image_record.image_data))\n",
        "                img = img.convert('RGB')  # Ensure RGB mode\n",
        "                img = img.resize(self.image_size)\n",
        "                img_array = np.array(img, dtype=np.float32) / 255.0  # Normalize\n",
        "\n",
        "                # Ensure consistent shape\n",
        "                if img_array.shape == (256, 256, 3):\n",
        "                    all_images.append(img_array)\n",
        "\n",
        "                    # Assign labels\n",
        "                    label = [1, 0] if image_record.image_class == 'NORMAL' else [0, 1]\n",
        "                    all_labels.append(label)\n",
        "            except Exception as e:\n",
        "                print(f\"Error processing image: {e}\")\n",
        "\n",
        "        # Shuffle the data\n",
        "        indices = np.arange(len(all_images))\n",
        "        np.random.shuffle(indices)\n",
        "        all_images = [all_images[i] for i in indices]\n",
        "        all_labels = [all_labels[i] for i in indices]\n",
        "\n",
        "        # Yield batches\n",
        "        for offset in range(0, len(all_images), self.batch_size):\n",
        "            batch_images = all_images[offset:offset+self.batch_size]\n",
        "            batch_labels = all_labels[offset:offset+self.batch_size]\n",
        "\n",
        "            yield np.array(batch_images), np.array(batch_labels)"
      ],
      "metadata": {
        "id": "_E6tK4rt5lT1"
      },
      "execution_count": 2,
      "outputs": []
    },
    {
      "cell_type": "code",
      "source": [
        "def create_tf_dataset(session, dataset_type):\n",
        "    generator = DatabaseImageGenerator(session, dataset_type)\n",
        "\n",
        "    # Create TensorFlow dataset from generator\n",
        "    dataset = tf.data.Dataset.from_generator(\n",
        "        generator,\n",
        "        output_signature=(\n",
        "            tf.TensorSpec(shape=(None, 256, 256, 3), dtype=tf.float32),\n",
        "            tf.TensorSpec(shape=(None, 2), dtype=tf.float32)\n",
        "        )\n",
        "    )\n",
        "\n",
        "    # Flatten the extra dimension and batch\n",
        "    dataset = dataset.unbatch().batch(32).prefetch(tf.data.AUTOTUNE)\n",
        "\n",
        "    return dataset"
      ],
      "metadata": {
        "id": "68vW1MtVW4Br"
      },
      "execution_count": 21,
      "outputs": []
    },
    {
      "cell_type": "markdown",
      "source": [
        "# Create sessions for different datasets"
      ],
      "metadata": {
        "id": "dF63qXqqut9o"
      }
    },
    {
      "cell_type": "code",
      "source": [
        "train_session = Session()\n",
        "test_session = Session()\n",
        "val_session = Session()\n"
      ],
      "metadata": {
        "id": "5KDzvcwGdmwl"
      },
      "execution_count": 7,
      "outputs": []
    },
    {
      "cell_type": "markdown",
      "source": [
        "# Create TensorFlow datasets"
      ],
      "metadata": {
        "id": "OUTBpQr7u-dc"
      }
    },
    {
      "cell_type": "code",
      "source": [
        "Train = create_tf_dataset(train_session, 'train')\n",
        "Test = create_tf_dataset(test_session, 'test')\n",
        "Validation = create_tf_dataset(val_session, 'val')"
      ],
      "metadata": {
        "id": "7JCiVrgLu_b7"
      },
      "execution_count": 8,
      "outputs": []
    },
    {
      "cell_type": "markdown",
      "source": [
        "# Initialize Model"
      ],
      "metadata": {
        "id": "mF3fxJbbjH7D"
      }
    },
    {
      "cell_type": "code",
      "source": [
        "model = tf.keras.models.Sequential([\n",
        "\tlayers.Conv2D(32, (3, 3), activation='relu', input_shape=(256, 256, 3)),\n",
        "\tlayers.MaxPooling2D(2, 2),\n",
        "\tlayers.Conv2D(64, (3, 3), activation='relu'),\n",
        "\tlayers.MaxPooling2D(2, 2),\n",
        "\tlayers.Conv2D(64, (3, 3), activation='relu'),\n",
        "\tlayers.MaxPooling2D(2, 2),\n",
        "\tlayers.Conv2D(64, (3, 3), activation='relu'),\n",
        "\tlayers.MaxPooling2D(2, 2),\n",
        "\n",
        "\tlayers.Flatten(),\n",
        "\tlayers.Dense(512, activation='relu'),\n",
        "\tlayers.BatchNormalization(),\n",
        "\tlayers.Dense(512, activation='relu'),\n",
        "\tlayers.Dropout(0.1),\n",
        "\tlayers.BatchNormalization(),\n",
        "\tlayers.Dense(512, activation='relu'),\n",
        "\tlayers.Dropout(0.2),\n",
        "\tlayers.BatchNormalization(),\n",
        "\tlayers.Dense(512, activation='relu'),\n",
        "\tlayers.Dropout(0.2),\n",
        "\tlayers.BatchNormalization(),\n",
        "\tlayers.Dense(2, activation='sigmoid')\n",
        "])"
      ],
      "metadata": {
        "id": "739tRiDBjJo7"
      },
      "execution_count": 23,
      "outputs": []
    },
    {
      "cell_type": "code",
      "source": [
        "model.summary()"
      ],
      "metadata": {
        "id": "6tmMVtRKjMnK",
        "colab": {
          "base_uri": "https://localhost:8080/",
          "height": 865
        },
        "collapsed": true,
        "outputId": "49050505-8458-499a-e6c1-275bc71412b4"
      },
      "execution_count": 24,
      "outputs": [
        {
          "output_type": "display_data",
          "data": {
            "text/plain": [
              "\u001b[1mModel: \"sequential_2\"\u001b[0m\n"
            ],
            "text/html": [
              "<pre style=\"white-space:pre;overflow-x:auto;line-height:normal;font-family:Menlo,'DejaVu Sans Mono',consolas,'Courier New',monospace\"><span style=\"font-weight: bold\">Model: \"sequential_2\"</span>\n",
              "</pre>\n"
            ]
          },
          "metadata": {}
        },
        {
          "output_type": "display_data",
          "data": {
            "text/plain": [
              "┏━━━━━━━━━━━━━━━━━━━━━━━━━━━━━━━━━━━━━━┳━━━━━━━━━━━━━━━━━━━━━━━━━━━━━┳━━━━━━━━━━━━━━━━━┓\n",
              "┃\u001b[1m \u001b[0m\u001b[1mLayer (type)                        \u001b[0m\u001b[1m \u001b[0m┃\u001b[1m \u001b[0m\u001b[1mOutput Shape               \u001b[0m\u001b[1m \u001b[0m┃\u001b[1m \u001b[0m\u001b[1m        Param #\u001b[0m\u001b[1m \u001b[0m┃\n",
              "┡━━━━━━━━━━━━━━━━━━━━━━━━━━━━━━━━━━━━━━╇━━━━━━━━━━━━━━━━━━━━━━━━━━━━━╇━━━━━━━━━━━━━━━━━┩\n",
              "│ conv2d_8 (\u001b[38;5;33mConv2D\u001b[0m)                    │ (\u001b[38;5;45mNone\u001b[0m, \u001b[38;5;34m254\u001b[0m, \u001b[38;5;34m254\u001b[0m, \u001b[38;5;34m32\u001b[0m)        │             \u001b[38;5;34m896\u001b[0m │\n",
              "├──────────────────────────────────────┼─────────────────────────────┼─────────────────┤\n",
              "│ max_pooling2d_8 (\u001b[38;5;33mMaxPooling2D\u001b[0m)       │ (\u001b[38;5;45mNone\u001b[0m, \u001b[38;5;34m127\u001b[0m, \u001b[38;5;34m127\u001b[0m, \u001b[38;5;34m32\u001b[0m)        │               \u001b[38;5;34m0\u001b[0m │\n",
              "├──────────────────────────────────────┼─────────────────────────────┼─────────────────┤\n",
              "│ conv2d_9 (\u001b[38;5;33mConv2D\u001b[0m)                    │ (\u001b[38;5;45mNone\u001b[0m, \u001b[38;5;34m125\u001b[0m, \u001b[38;5;34m125\u001b[0m, \u001b[38;5;34m64\u001b[0m)        │          \u001b[38;5;34m18,496\u001b[0m │\n",
              "├──────────────────────────────────────┼─────────────────────────────┼─────────────────┤\n",
              "│ max_pooling2d_9 (\u001b[38;5;33mMaxPooling2D\u001b[0m)       │ (\u001b[38;5;45mNone\u001b[0m, \u001b[38;5;34m62\u001b[0m, \u001b[38;5;34m62\u001b[0m, \u001b[38;5;34m64\u001b[0m)          │               \u001b[38;5;34m0\u001b[0m │\n",
              "├──────────────────────────────────────┼─────────────────────────────┼─────────────────┤\n",
              "│ conv2d_10 (\u001b[38;5;33mConv2D\u001b[0m)                   │ (\u001b[38;5;45mNone\u001b[0m, \u001b[38;5;34m60\u001b[0m, \u001b[38;5;34m60\u001b[0m, \u001b[38;5;34m64\u001b[0m)          │          \u001b[38;5;34m36,928\u001b[0m │\n",
              "├──────────────────────────────────────┼─────────────────────────────┼─────────────────┤\n",
              "│ max_pooling2d_10 (\u001b[38;5;33mMaxPooling2D\u001b[0m)      │ (\u001b[38;5;45mNone\u001b[0m, \u001b[38;5;34m30\u001b[0m, \u001b[38;5;34m30\u001b[0m, \u001b[38;5;34m64\u001b[0m)          │               \u001b[38;5;34m0\u001b[0m │\n",
              "├──────────────────────────────────────┼─────────────────────────────┼─────────────────┤\n",
              "│ conv2d_11 (\u001b[38;5;33mConv2D\u001b[0m)                   │ (\u001b[38;5;45mNone\u001b[0m, \u001b[38;5;34m28\u001b[0m, \u001b[38;5;34m28\u001b[0m, \u001b[38;5;34m64\u001b[0m)          │          \u001b[38;5;34m36,928\u001b[0m │\n",
              "├──────────────────────────────────────┼─────────────────────────────┼─────────────────┤\n",
              "│ max_pooling2d_11 (\u001b[38;5;33mMaxPooling2D\u001b[0m)      │ (\u001b[38;5;45mNone\u001b[0m, \u001b[38;5;34m14\u001b[0m, \u001b[38;5;34m14\u001b[0m, \u001b[38;5;34m64\u001b[0m)          │               \u001b[38;5;34m0\u001b[0m │\n",
              "├──────────────────────────────────────┼─────────────────────────────┼─────────────────┤\n",
              "│ flatten_2 (\u001b[38;5;33mFlatten\u001b[0m)                  │ (\u001b[38;5;45mNone\u001b[0m, \u001b[38;5;34m12544\u001b[0m)               │               \u001b[38;5;34m0\u001b[0m │\n",
              "├──────────────────────────────────────┼─────────────────────────────┼─────────────────┤\n",
              "│ dense_8 (\u001b[38;5;33mDense\u001b[0m)                      │ (\u001b[38;5;45mNone\u001b[0m, \u001b[38;5;34m512\u001b[0m)                 │       \u001b[38;5;34m6,423,040\u001b[0m │\n",
              "├──────────────────────────────────────┼─────────────────────────────┼─────────────────┤\n",
              "│ batch_normalization_6                │ (\u001b[38;5;45mNone\u001b[0m, \u001b[38;5;34m512\u001b[0m)                 │           \u001b[38;5;34m2,048\u001b[0m │\n",
              "│ (\u001b[38;5;33mBatchNormalization\u001b[0m)                 │                             │                 │\n",
              "├──────────────────────────────────────┼─────────────────────────────┼─────────────────┤\n",
              "│ dense_9 (\u001b[38;5;33mDense\u001b[0m)                      │ (\u001b[38;5;45mNone\u001b[0m, \u001b[38;5;34m512\u001b[0m)                 │         \u001b[38;5;34m262,656\u001b[0m │\n",
              "├──────────────────────────────────────┼─────────────────────────────┼─────────────────┤\n",
              "│ dropout_5 (\u001b[38;5;33mDropout\u001b[0m)                  │ (\u001b[38;5;45mNone\u001b[0m, \u001b[38;5;34m512\u001b[0m)                 │               \u001b[38;5;34m0\u001b[0m │\n",
              "├──────────────────────────────────────┼─────────────────────────────┼─────────────────┤\n",
              "│ batch_normalization_7                │ (\u001b[38;5;45mNone\u001b[0m, \u001b[38;5;34m512\u001b[0m)                 │           \u001b[38;5;34m2,048\u001b[0m │\n",
              "│ (\u001b[38;5;33mBatchNormalization\u001b[0m)                 │                             │                 │\n",
              "├──────────────────────────────────────┼─────────────────────────────┼─────────────────┤\n",
              "│ dense_10 (\u001b[38;5;33mDense\u001b[0m)                     │ (\u001b[38;5;45mNone\u001b[0m, \u001b[38;5;34m512\u001b[0m)                 │         \u001b[38;5;34m262,656\u001b[0m │\n",
              "├──────────────────────────────────────┼─────────────────────────────┼─────────────────┤\n",
              "│ dropout_6 (\u001b[38;5;33mDropout\u001b[0m)                  │ (\u001b[38;5;45mNone\u001b[0m, \u001b[38;5;34m512\u001b[0m)                 │               \u001b[38;5;34m0\u001b[0m │\n",
              "├──────────────────────────────────────┼─────────────────────────────┼─────────────────┤\n",
              "│ batch_normalization_8                │ (\u001b[38;5;45mNone\u001b[0m, \u001b[38;5;34m512\u001b[0m)                 │           \u001b[38;5;34m2,048\u001b[0m │\n",
              "│ (\u001b[38;5;33mBatchNormalization\u001b[0m)                 │                             │                 │\n",
              "├──────────────────────────────────────┼─────────────────────────────┼─────────────────┤\n",
              "│ dense_11 (\u001b[38;5;33mDense\u001b[0m)                     │ (\u001b[38;5;45mNone\u001b[0m, \u001b[38;5;34m512\u001b[0m)                 │         \u001b[38;5;34m262,656\u001b[0m │\n",
              "├──────────────────────────────────────┼─────────────────────────────┼─────────────────┤\n",
              "│ dropout_7 (\u001b[38;5;33mDropout\u001b[0m)                  │ (\u001b[38;5;45mNone\u001b[0m, \u001b[38;5;34m512\u001b[0m)                 │               \u001b[38;5;34m0\u001b[0m │\n",
              "├──────────────────────────────────────┼─────────────────────────────┼─────────────────┤\n",
              "│ batch_normalization_9                │ (\u001b[38;5;45mNone\u001b[0m, \u001b[38;5;34m512\u001b[0m)                 │           \u001b[38;5;34m2,048\u001b[0m │\n",
              "│ (\u001b[38;5;33mBatchNormalization\u001b[0m)                 │                             │                 │\n",
              "├──────────────────────────────────────┼─────────────────────────────┼─────────────────┤\n",
              "│ dense_12 (\u001b[38;5;33mDense\u001b[0m)                     │ (\u001b[38;5;45mNone\u001b[0m, \u001b[38;5;34m2\u001b[0m)                   │           \u001b[38;5;34m1,026\u001b[0m │\n",
              "└──────────────────────────────────────┴─────────────────────────────┴─────────────────┘\n"
            ],
            "text/html": [
              "<pre style=\"white-space:pre;overflow-x:auto;line-height:normal;font-family:Menlo,'DejaVu Sans Mono',consolas,'Courier New',monospace\">┏━━━━━━━━━━━━━━━━━━━━━━━━━━━━━━━━━━━━━━┳━━━━━━━━━━━━━━━━━━━━━━━━━━━━━┳━━━━━━━━━━━━━━━━━┓\n",
              "┃<span style=\"font-weight: bold\"> Layer (type)                         </span>┃<span style=\"font-weight: bold\"> Output Shape                </span>┃<span style=\"font-weight: bold\">         Param # </span>┃\n",
              "┡━━━━━━━━━━━━━━━━━━━━━━━━━━━━━━━━━━━━━━╇━━━━━━━━━━━━━━━━━━━━━━━━━━━━━╇━━━━━━━━━━━━━━━━━┩\n",
              "│ conv2d_8 (<span style=\"color: #0087ff; text-decoration-color: #0087ff\">Conv2D</span>)                    │ (<span style=\"color: #00d7ff; text-decoration-color: #00d7ff\">None</span>, <span style=\"color: #00af00; text-decoration-color: #00af00\">254</span>, <span style=\"color: #00af00; text-decoration-color: #00af00\">254</span>, <span style=\"color: #00af00; text-decoration-color: #00af00\">32</span>)        │             <span style=\"color: #00af00; text-decoration-color: #00af00\">896</span> │\n",
              "├──────────────────────────────────────┼─────────────────────────────┼─────────────────┤\n",
              "│ max_pooling2d_8 (<span style=\"color: #0087ff; text-decoration-color: #0087ff\">MaxPooling2D</span>)       │ (<span style=\"color: #00d7ff; text-decoration-color: #00d7ff\">None</span>, <span style=\"color: #00af00; text-decoration-color: #00af00\">127</span>, <span style=\"color: #00af00; text-decoration-color: #00af00\">127</span>, <span style=\"color: #00af00; text-decoration-color: #00af00\">32</span>)        │               <span style=\"color: #00af00; text-decoration-color: #00af00\">0</span> │\n",
              "├──────────────────────────────────────┼─────────────────────────────┼─────────────────┤\n",
              "│ conv2d_9 (<span style=\"color: #0087ff; text-decoration-color: #0087ff\">Conv2D</span>)                    │ (<span style=\"color: #00d7ff; text-decoration-color: #00d7ff\">None</span>, <span style=\"color: #00af00; text-decoration-color: #00af00\">125</span>, <span style=\"color: #00af00; text-decoration-color: #00af00\">125</span>, <span style=\"color: #00af00; text-decoration-color: #00af00\">64</span>)        │          <span style=\"color: #00af00; text-decoration-color: #00af00\">18,496</span> │\n",
              "├──────────────────────────────────────┼─────────────────────────────┼─────────────────┤\n",
              "│ max_pooling2d_9 (<span style=\"color: #0087ff; text-decoration-color: #0087ff\">MaxPooling2D</span>)       │ (<span style=\"color: #00d7ff; text-decoration-color: #00d7ff\">None</span>, <span style=\"color: #00af00; text-decoration-color: #00af00\">62</span>, <span style=\"color: #00af00; text-decoration-color: #00af00\">62</span>, <span style=\"color: #00af00; text-decoration-color: #00af00\">64</span>)          │               <span style=\"color: #00af00; text-decoration-color: #00af00\">0</span> │\n",
              "├──────────────────────────────────────┼─────────────────────────────┼─────────────────┤\n",
              "│ conv2d_10 (<span style=\"color: #0087ff; text-decoration-color: #0087ff\">Conv2D</span>)                   │ (<span style=\"color: #00d7ff; text-decoration-color: #00d7ff\">None</span>, <span style=\"color: #00af00; text-decoration-color: #00af00\">60</span>, <span style=\"color: #00af00; text-decoration-color: #00af00\">60</span>, <span style=\"color: #00af00; text-decoration-color: #00af00\">64</span>)          │          <span style=\"color: #00af00; text-decoration-color: #00af00\">36,928</span> │\n",
              "├──────────────────────────────────────┼─────────────────────────────┼─────────────────┤\n",
              "│ max_pooling2d_10 (<span style=\"color: #0087ff; text-decoration-color: #0087ff\">MaxPooling2D</span>)      │ (<span style=\"color: #00d7ff; text-decoration-color: #00d7ff\">None</span>, <span style=\"color: #00af00; text-decoration-color: #00af00\">30</span>, <span style=\"color: #00af00; text-decoration-color: #00af00\">30</span>, <span style=\"color: #00af00; text-decoration-color: #00af00\">64</span>)          │               <span style=\"color: #00af00; text-decoration-color: #00af00\">0</span> │\n",
              "├──────────────────────────────────────┼─────────────────────────────┼─────────────────┤\n",
              "│ conv2d_11 (<span style=\"color: #0087ff; text-decoration-color: #0087ff\">Conv2D</span>)                   │ (<span style=\"color: #00d7ff; text-decoration-color: #00d7ff\">None</span>, <span style=\"color: #00af00; text-decoration-color: #00af00\">28</span>, <span style=\"color: #00af00; text-decoration-color: #00af00\">28</span>, <span style=\"color: #00af00; text-decoration-color: #00af00\">64</span>)          │          <span style=\"color: #00af00; text-decoration-color: #00af00\">36,928</span> │\n",
              "├──────────────────────────────────────┼─────────────────────────────┼─────────────────┤\n",
              "│ max_pooling2d_11 (<span style=\"color: #0087ff; text-decoration-color: #0087ff\">MaxPooling2D</span>)      │ (<span style=\"color: #00d7ff; text-decoration-color: #00d7ff\">None</span>, <span style=\"color: #00af00; text-decoration-color: #00af00\">14</span>, <span style=\"color: #00af00; text-decoration-color: #00af00\">14</span>, <span style=\"color: #00af00; text-decoration-color: #00af00\">64</span>)          │               <span style=\"color: #00af00; text-decoration-color: #00af00\">0</span> │\n",
              "├──────────────────────────────────────┼─────────────────────────────┼─────────────────┤\n",
              "│ flatten_2 (<span style=\"color: #0087ff; text-decoration-color: #0087ff\">Flatten</span>)                  │ (<span style=\"color: #00d7ff; text-decoration-color: #00d7ff\">None</span>, <span style=\"color: #00af00; text-decoration-color: #00af00\">12544</span>)               │               <span style=\"color: #00af00; text-decoration-color: #00af00\">0</span> │\n",
              "├──────────────────────────────────────┼─────────────────────────────┼─────────────────┤\n",
              "│ dense_8 (<span style=\"color: #0087ff; text-decoration-color: #0087ff\">Dense</span>)                      │ (<span style=\"color: #00d7ff; text-decoration-color: #00d7ff\">None</span>, <span style=\"color: #00af00; text-decoration-color: #00af00\">512</span>)                 │       <span style=\"color: #00af00; text-decoration-color: #00af00\">6,423,040</span> │\n",
              "├──────────────────────────────────────┼─────────────────────────────┼─────────────────┤\n",
              "│ batch_normalization_6                │ (<span style=\"color: #00d7ff; text-decoration-color: #00d7ff\">None</span>, <span style=\"color: #00af00; text-decoration-color: #00af00\">512</span>)                 │           <span style=\"color: #00af00; text-decoration-color: #00af00\">2,048</span> │\n",
              "│ (<span style=\"color: #0087ff; text-decoration-color: #0087ff\">BatchNormalization</span>)                 │                             │                 │\n",
              "├──────────────────────────────────────┼─────────────────────────────┼─────────────────┤\n",
              "│ dense_9 (<span style=\"color: #0087ff; text-decoration-color: #0087ff\">Dense</span>)                      │ (<span style=\"color: #00d7ff; text-decoration-color: #00d7ff\">None</span>, <span style=\"color: #00af00; text-decoration-color: #00af00\">512</span>)                 │         <span style=\"color: #00af00; text-decoration-color: #00af00\">262,656</span> │\n",
              "├──────────────────────────────────────┼─────────────────────────────┼─────────────────┤\n",
              "│ dropout_5 (<span style=\"color: #0087ff; text-decoration-color: #0087ff\">Dropout</span>)                  │ (<span style=\"color: #00d7ff; text-decoration-color: #00d7ff\">None</span>, <span style=\"color: #00af00; text-decoration-color: #00af00\">512</span>)                 │               <span style=\"color: #00af00; text-decoration-color: #00af00\">0</span> │\n",
              "├──────────────────────────────────────┼─────────────────────────────┼─────────────────┤\n",
              "│ batch_normalization_7                │ (<span style=\"color: #00d7ff; text-decoration-color: #00d7ff\">None</span>, <span style=\"color: #00af00; text-decoration-color: #00af00\">512</span>)                 │           <span style=\"color: #00af00; text-decoration-color: #00af00\">2,048</span> │\n",
              "│ (<span style=\"color: #0087ff; text-decoration-color: #0087ff\">BatchNormalization</span>)                 │                             │                 │\n",
              "├──────────────────────────────────────┼─────────────────────────────┼─────────────────┤\n",
              "│ dense_10 (<span style=\"color: #0087ff; text-decoration-color: #0087ff\">Dense</span>)                     │ (<span style=\"color: #00d7ff; text-decoration-color: #00d7ff\">None</span>, <span style=\"color: #00af00; text-decoration-color: #00af00\">512</span>)                 │         <span style=\"color: #00af00; text-decoration-color: #00af00\">262,656</span> │\n",
              "├──────────────────────────────────────┼─────────────────────────────┼─────────────────┤\n",
              "│ dropout_6 (<span style=\"color: #0087ff; text-decoration-color: #0087ff\">Dropout</span>)                  │ (<span style=\"color: #00d7ff; text-decoration-color: #00d7ff\">None</span>, <span style=\"color: #00af00; text-decoration-color: #00af00\">512</span>)                 │               <span style=\"color: #00af00; text-decoration-color: #00af00\">0</span> │\n",
              "├──────────────────────────────────────┼─────────────────────────────┼─────────────────┤\n",
              "│ batch_normalization_8                │ (<span style=\"color: #00d7ff; text-decoration-color: #00d7ff\">None</span>, <span style=\"color: #00af00; text-decoration-color: #00af00\">512</span>)                 │           <span style=\"color: #00af00; text-decoration-color: #00af00\">2,048</span> │\n",
              "│ (<span style=\"color: #0087ff; text-decoration-color: #0087ff\">BatchNormalization</span>)                 │                             │                 │\n",
              "├──────────────────────────────────────┼─────────────────────────────┼─────────────────┤\n",
              "│ dense_11 (<span style=\"color: #0087ff; text-decoration-color: #0087ff\">Dense</span>)                     │ (<span style=\"color: #00d7ff; text-decoration-color: #00d7ff\">None</span>, <span style=\"color: #00af00; text-decoration-color: #00af00\">512</span>)                 │         <span style=\"color: #00af00; text-decoration-color: #00af00\">262,656</span> │\n",
              "├──────────────────────────────────────┼─────────────────────────────┼─────────────────┤\n",
              "│ dropout_7 (<span style=\"color: #0087ff; text-decoration-color: #0087ff\">Dropout</span>)                  │ (<span style=\"color: #00d7ff; text-decoration-color: #00d7ff\">None</span>, <span style=\"color: #00af00; text-decoration-color: #00af00\">512</span>)                 │               <span style=\"color: #00af00; text-decoration-color: #00af00\">0</span> │\n",
              "├──────────────────────────────────────┼─────────────────────────────┼─────────────────┤\n",
              "│ batch_normalization_9                │ (<span style=\"color: #00d7ff; text-decoration-color: #00d7ff\">None</span>, <span style=\"color: #00af00; text-decoration-color: #00af00\">512</span>)                 │           <span style=\"color: #00af00; text-decoration-color: #00af00\">2,048</span> │\n",
              "│ (<span style=\"color: #0087ff; text-decoration-color: #0087ff\">BatchNormalization</span>)                 │                             │                 │\n",
              "├──────────────────────────────────────┼─────────────────────────────┼─────────────────┤\n",
              "│ dense_12 (<span style=\"color: #0087ff; text-decoration-color: #0087ff\">Dense</span>)                     │ (<span style=\"color: #00d7ff; text-decoration-color: #00d7ff\">None</span>, <span style=\"color: #00af00; text-decoration-color: #00af00\">2</span>)                   │           <span style=\"color: #00af00; text-decoration-color: #00af00\">1,026</span> │\n",
              "└──────────────────────────────────────┴─────────────────────────────┴─────────────────┘\n",
              "</pre>\n"
            ]
          },
          "metadata": {}
        },
        {
          "output_type": "display_data",
          "data": {
            "text/plain": [
              "\u001b[1m Total params: \u001b[0m\u001b[38;5;34m7,313,474\u001b[0m (27.90 MB)\n"
            ],
            "text/html": [
              "<pre style=\"white-space:pre;overflow-x:auto;line-height:normal;font-family:Menlo,'DejaVu Sans Mono',consolas,'Courier New',monospace\"><span style=\"font-weight: bold\"> Total params: </span><span style=\"color: #00af00; text-decoration-color: #00af00\">7,313,474</span> (27.90 MB)\n",
              "</pre>\n"
            ]
          },
          "metadata": {}
        },
        {
          "output_type": "display_data",
          "data": {
            "text/plain": [
              "\u001b[1m Trainable params: \u001b[0m\u001b[38;5;34m7,309,378\u001b[0m (27.88 MB)\n"
            ],
            "text/html": [
              "<pre style=\"white-space:pre;overflow-x:auto;line-height:normal;font-family:Menlo,'DejaVu Sans Mono',consolas,'Courier New',monospace\"><span style=\"font-weight: bold\"> Trainable params: </span><span style=\"color: #00af00; text-decoration-color: #00af00\">7,309,378</span> (27.88 MB)\n",
              "</pre>\n"
            ]
          },
          "metadata": {}
        },
        {
          "output_type": "display_data",
          "data": {
            "text/plain": [
              "\u001b[1m Non-trainable params: \u001b[0m\u001b[38;5;34m4,096\u001b[0m (16.00 KB)\n"
            ],
            "text/html": [
              "<pre style=\"white-space:pre;overflow-x:auto;line-height:normal;font-family:Menlo,'DejaVu Sans Mono',consolas,'Courier New',monospace\"><span style=\"font-weight: bold\"> Non-trainable params: </span><span style=\"color: #00af00; text-decoration-color: #00af00\">4,096</span> (16.00 KB)\n",
              "</pre>\n"
            ]
          },
          "metadata": {}
        }
      ]
    },
    {
      "cell_type": "code",
      "source": [
        "model.compile(\n",
        "\tloss='binary_crossentropy',\n",
        "\toptimizer='adam',\n",
        "\tmetrics=['accuracy']\n",
        ")"
      ],
      "metadata": {
        "id": "zZd6mxaWjOi7"
      },
      "execution_count": 15,
      "outputs": []
    },
    {
      "cell_type": "markdown",
      "source": [
        "# Training"
      ],
      "metadata": {
        "id": "W9U-ssdnjRlG"
      }
    },
    {
      "cell_type": "code",
      "source": [
        "history = model.fit(Train,\n",
        "\t\tepochs=1,\n",
        "\t\tvalidation_data=Validation)"
      ],
      "metadata": {
        "id": "8qHgxl_ajPzz"
      },
      "execution_count": null,
      "outputs": []
    },
    {
      "cell_type": "code",
      "source": [
        "model.save('model.h5')"
      ],
      "metadata": {
        "id": "dAI9q_UvjUfj"
      },
      "execution_count": null,
      "outputs": []
    },
    {
      "cell_type": "markdown",
      "source": [
        "# Evaluate Performance"
      ],
      "metadata": {
        "id": "NqvEiLTt1icz"
      }
    },
    {
      "cell_type": "code",
      "source": [
        "loss, accuracy = model.evaluate(Test)\n",
        "print('The accuracy of the model on test dataset is',\n",
        "    np.round(accuracy*100))"
      ],
      "metadata": {
        "id": "Wp_lWsiF1jDy"
      },
      "execution_count": null,
      "outputs": []
    },
    {
      "cell_type": "markdown",
      "source": [
        "# Analytics Functions"
      ],
      "metadata": {
        "id": "WkFcYgR11ou7"
      }
    },
    {
      "cell_type": "code",
      "source": [
        "def plot_class_distribution():\n",
        "    data = {\n",
        "        \"Dataset\": [],\n",
        "        \"Class\": [],\n",
        "        \"Count\": []\n",
        "    }\n",
        "\n",
        "    for dataset_type in ['train', 'test', 'val']:\n",
        "        session = Session()\n",
        "        normal_count = session.query(XRayImage).filter_by(dataset_type=dataset_type, image_class='NORMAL').count()\n",
        "        pneumonia_count = session.query(XRayImage).filter_by(dataset_type=dataset_type, image_class='PNEUMONIA').count()\n",
        "\n",
        "        data[\"Dataset\"].extend([dataset_type, dataset_type])\n",
        "        data[\"Class\"].extend([\"Normal\", \"Pneumonia\"])\n",
        "        data[\"Count\"].extend([normal_count, pneumonia_count])\n",
        "\n",
        "        session.close()\n",
        "\n",
        "    df = pd.DataFrame(data)\n",
        "    sns.barplot(x=\"Dataset\", y=\"Count\", hue=\"Class\", data=df)\n",
        "    plt.title(\"Class Distribution in Datasets\")\n",
        "    plt.show()\n",
        "\n",
        "plot_class_distribution()"
      ],
      "metadata": {
        "id": "ng-CDy7r1pIk"
      },
      "execution_count": null,
      "outputs": []
    },
    {
      "cell_type": "code",
      "source": [
        "def plot_sample_images():\n",
        "    session = Session()\n",
        "    plt.figure(figsize=(10, 8))\n",
        "\n",
        "    # Pneumonia images\n",
        "    pneumonia_images = session.query(XRayImage).filter_by(dataset_type='train', image_class='PNEUMONIA').limit(4)\n",
        "    for i, image_record in enumerate(pneumonia_images):\n",
        "        plt.subplot(2, 4, i + 1)\n",
        "        img = Image.open(io.BytesIO(image_record.image_data))\n",
        "        plt.imshow(img, cmap='gray')\n",
        "        plt.title(\"Pneumonia\")\n",
        "        plt.axis(\"off\")\n",
        "\n",
        "    # Normal images\n",
        "    normal_images = session.query(XRayImage).filter_by(dataset_type='train', image_class='NORMAL').limit(4)\n",
        "    for i, image_record in enumerate(normal_images):\n",
        "        plt.subplot(2, 4, i + 5)\n",
        "        img = Image.open(io.BytesIO(image_record.image_data))\n",
        "        plt.imshow(img, cmap='gray')\n",
        "        plt.title(\"Normal\")\n",
        "        plt.axis(\"off\")\n",
        "\n",
        "    plt.tight_layout()\n",
        "    plt.show()\n",
        "    session.close()\n",
        "\n",
        "plot_sample_images()"
      ],
      "metadata": {
        "id": "J3mNhbTv1sFE"
      },
      "execution_count": null,
      "outputs": []
    },
    {
      "cell_type": "code",
      "source": [
        "def plot_confusion_matrix(y_true, y_pred, classes):\n",
        "    from sklearn.metrics import confusion_matrix\n",
        "    cm = confusion_matrix(y_true, y_pred)\n",
        "    plt.figure(figsize=(8, 6))\n",
        "    sns.heatmap(cm, annot=True, fmt='d', cmap='Blues', xticklabels=classes, yticklabels=classes)\n",
        "    plt.title(\"Confusion Matrix\")\n",
        "    plt.xlabel(\"Predicted\")\n",
        "    plt.ylabel(\"True\")\n",
        "    plt.show()\n",
        "\n",
        "y_true = np.argmax(y_test, axis=1)\n",
        "y_pred = np.argmax(model.predict(Test), axis=1)\n",
        "\n",
        "plot_confusion_matrix(y_true, y_pred, classes=[\"Normal\", \"Pneumonia\"])"
      ],
      "metadata": {
        "id": "yNWLjbdw1uV-"
      },
      "execution_count": null,
      "outputs": []
    },
    {
      "cell_type": "markdown",
      "source": [
        "# Prediction Function"
      ],
      "metadata": {
        "id": "fhfMq02S1yRd"
      }
    },
    {
      "cell_type": "code",
      "source": [
        "def predict_xray(image_bytes, model):\n",
        "    # Convert bytes to image\n",
        "    test_image = Image.open(io.BytesIO(image_bytes))\n",
        "    test_image = test_image.resize((256, 256))\n",
        "    test_image = np.array(test_image)\n",
        "    test_image = np.expand_dims(test_image, axis=0)\n",
        "\n",
        "    # Make prediction\n",
        "    result = model.predict(test_image, verbose=0)\n",
        "    class_probabilities = result[0]\n",
        "\n",
        "    # Print prediction and probabilities\n",
        "    prediction = \"Normal\" if class_probabilities[0] > class_probabilities[1] else \"Pneumonia\"\n",
        "    print(f\"Prediction: {prediction}\")\n",
        "    print(f\"Probability of Normal: {class_probabilities[0]:.2%}\")\n",
        "    print(f\"Probability of Pneumonia: {class_probabilities[1]:.2%}\")"
      ],
      "metadata": {
        "id": "7sOD9OlP1ywt"
      },
      "execution_count": null,
      "outputs": []
    },
    {
      "cell_type": "markdown",
      "source": [
        "# Test prediction with database-stored images"
      ],
      "metadata": {
        "id": "Fp5_v90A15XU"
      }
    },
    {
      "cell_type": "code",
      "source": [
        "session = Session()"
      ],
      "metadata": {
        "id": "bJjXMW5B17AE"
      },
      "execution_count": null,
      "outputs": []
    },
    {
      "cell_type": "markdown",
      "source": [],
      "metadata": {
        "id": "Drqh0CMj181o"
      }
    },
    {
      "cell_type": "markdown",
      "source": [
        "# Test with a normal case"
      ],
      "metadata": {
        "id": "Mim0zgeI1-WB"
      }
    },
    {
      "cell_type": "code",
      "source": [
        "normal_image = session.query(XRayImage).filter_by(dataset_type='test', image_class='NORMAL').first()\n",
        "print(\"\\nPredicting Normal Case:\")\n",
        "predict_xray(normal_image.image_data, model)"
      ],
      "metadata": {
        "id": "wEsthUMs1-5B"
      },
      "execution_count": null,
      "outputs": []
    },
    {
      "cell_type": "markdown",
      "source": [
        "# Test with a pneumonia case"
      ],
      "metadata": {
        "id": "TDPkG8eZ2Adi"
      }
    },
    {
      "cell_type": "code",
      "source": [
        "pneumonia_image = session.query(XRayImage).filter_by(dataset_type='test', image_class='PNEUMONIA').first()\n",
        "print(\"\\nPredicting Pneumonia Case:\")\n",
        "predict_xray(pneumonia_image.image_data, model)"
      ],
      "metadata": {
        "id": "q4nZBZ-p2CdS"
      },
      "execution_count": null,
      "outputs": []
    },
    {
      "cell_type": "markdown",
      "source": [
        "# Closing Session"
      ],
      "metadata": {
        "id": "heNygarf2HMe"
      }
    },
    {
      "cell_type": "code",
      "source": [
        "session.close()"
      ],
      "metadata": {
        "id": "z8Zp51iW2IlV"
      },
      "execution_count": null,
      "outputs": []
    }
  ]
}